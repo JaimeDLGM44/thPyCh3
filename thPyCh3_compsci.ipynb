{
 "cells": [
  {
   "cell_type": "markdown",
   "metadata": {},
   "source": [
    "# Think Python 2 Chapter 3 - Functions"
   ]
  },
  {
   "cell_type": "code",
   "execution_count": 1,
   "metadata": {},
   "outputs": [],
   "source": [
    "#We've seen some functions already - int(\"4\"), str(3), input(\"Write something\")\n",
    "#In Python, a function is a named sequence of statements that performs a computation.  When you define a function, you specify\n",
    "#the name and sequence of events.  Later, you can \"call\" the function by name."
   ]
  },
  {
   "cell_type": "markdown",
   "metadata": {},
   "source": [
    "# Function calls"
   ]
  },
  {
   "cell_type": "code",
   "execution_count": 2,
   "metadata": {},
   "outputs": [
    {
     "data": {
      "text/plain": [
       "3"
      ]
     },
     "execution_count": 2,
     "metadata": {},
     "output_type": "execute_result"
    }
   ],
   "source": [
    "#examples \n",
    "int(\"3\") #start off as a string, cast it as an interger"
   ]
  },
  {
   "cell_type": "code",
   "execution_count": 3,
   "metadata": {},
   "outputs": [
    {
     "data": {
      "text/plain": [
       "str"
      ]
     },
     "execution_count": 3,
     "metadata": {},
     "output_type": "execute_result"
    }
   ],
   "source": [
    "type(\"hello\") #checking type of things"
   ]
  },
  {
   "cell_type": "code",
   "execution_count": 4,
   "metadata": {},
   "outputs": [
    {
     "name": "stdout",
     "output_type": "stream",
     "text": [
      "<class 'str'>\n"
     ]
    }
   ],
   "source": [
    "print(type(\"world\")) #printing class string (prints result in a more sentence like structure)"
   ]
  },
  {
   "cell_type": "code",
   "execution_count": 5,
   "metadata": {},
   "outputs": [
    {
     "name": "stdout",
     "output_type": "stream",
     "text": [
      "3.0\n",
      "3\n",
      "None\n"
     ]
    }
   ],
   "source": [
    "# the name of the functions above are int, type, and print\n",
    "# the expression in parentheses is called the ARGUMENT of the function.  It returns a RETURN VALUE.\n",
    "x = float(3) #this takes the argument 3 and returns value 3.0 that gets stored in x\n",
    "print(x)\n",
    "\n",
    "x = print(3) #this overwrites the argument of x above\n",
    "print(x) #pointer to nothing, previous values stored in x are lost {print(print(3))}"
   ]
  },
  {
   "cell_type": "code",
   "execution_count": 6,
   "metadata": {},
   "outputs": [
    {
     "data": {
      "text/plain": [
       "4"
      ]
     },
     "execution_count": 6,
     "metadata": {},
     "output_type": "execute_result"
    }
   ],
   "source": [
    "int(4.5) #does it round? see below"
   ]
  },
  {
   "cell_type": "code",
   "execution_count": 7,
   "metadata": {},
   "outputs": [
    {
     "name": "stdout",
     "output_type": "stream",
     "text": [
      "4 4 -4 -4\n"
     ]
    }
   ],
   "source": [
    "print(int(4.5), int(4.9), int(-4.3), int(-4.7)) #doesn't round, just cuts off float"
   ]
  },
  {
   "cell_type": "code",
   "execution_count": 8,
   "metadata": {},
   "outputs": [
    {
     "data": {
      "text/plain": [
       "int"
      ]
     },
     "execution_count": 8,
     "metadata": {},
     "output_type": "execute_result"
    }
   ],
   "source": [
    "#int = 3\n",
    "int"
   ]
  },
  {
   "cell_type": "code",
   "execution_count": 9,
   "metadata": {},
   "outputs": [
    {
     "data": {
      "text/plain": [
       "4"
      ]
     },
     "execution_count": 9,
     "metadata": {},
     "output_type": "execute_result"
    }
   ],
   "source": [
    "int(4.5) #because int is set as a variable above, place # to plock it out and it will work"
   ]
  },
  {
   "cell_type": "code",
   "execution_count": 10,
   "metadata": {},
   "outputs": [],
   "source": [
    "#Python has a math module that provides many familiar mathematical functions.  \n",
    "#A Module is a file that contains a collection of related functions.\n",
    "import math\n",
    "#This imports all the statements written in the math module; it creates a \"Module object\" named math."
   ]
  },
  {
   "cell_type": "code",
   "execution_count": 11,
   "metadata": {},
   "outputs": [
    {
     "data": {
      "text/plain": [
       "<module 'math' from '/Library/Frameworks/Python.framework/Versions/3.9/lib/python3.9/lib-dynload/math.cpython-39-darwin.so'>"
      ]
     },
     "execution_count": 11,
     "metadata": {},
     "output_type": "execute_result"
    }
   ],
   "source": [
    "#Displaying it gives a little info about where this information is from\n",
    "math"
   ]
  },
  {
   "cell_type": "code",
   "execution_count": 12,
   "metadata": {},
   "outputs": [],
   "source": [
    "#To access the functions and variables inside a module, use \"dot notation\""
   ]
  },
  {
   "cell_type": "code",
   "execution_count": 13,
   "metadata": {},
   "outputs": [
    {
     "name": "stdout",
     "output_type": "stream",
     "text": [
      "0.7071067811865475 0.7071067811865476 0.7071067811865476\n"
     ]
    }
   ],
   "source": [
    "pi_over_four = math.pi/4 #math.pi is a constant built in math module\n",
    "y_val = math.sin(pi_over_four) #math.sin is a function built in math module,\n",
    "print(y_val, math.sqrt(2)/2,(2)**(1/2)/2) #math.sqrt (square root), saying root 2 divided by 2 equalls sin of pi/4\n",
    "#this is a list of operations that equall eachother\n",
    "#type math.(name of function)"
   ]
  },
  {
   "cell_type": "code",
   "execution_count": 14,
   "metadata": {},
   "outputs": [
    {
     "name": "stdout",
     "output_type": "stream",
     "text": [
      "11.0\n",
      "1.0\n",
      "7.0\n",
      "2.2052311074341606\n"
     ]
    },
    {
     "data": {
      "text/plain": [
       "3.0"
      ]
     },
     "execution_count": 14,
     "metadata": {},
     "output_type": "execute_result"
    }
   ],
   "source": [
    "big_num = 100000000000 #i.e. 10**11 (11 zeroes)\n",
    "print(math.log10(big_num)) #logbase(10) of bignum #this is built into python\n",
    "print(math.log(math.e)) #log with no specified base is assumed to be natural log, s this is Ln(e) equals 1\n",
    "print(math.log2(2**7)) #this is built into python\n",
    "print(math.log(52, 6))\n",
    "math.log(27,3)"
   ]
  },
  {
   "cell_type": "code",
   "execution_count": 15,
   "metadata": {},
   "outputs": [
    {
     "data": {
      "text/plain": [
       "12.566370614359172"
      ]
     },
     "execution_count": 15,
     "metadata": {},
     "output_type": "execute_result"
    }
   ],
   "source": [
    "## this is code not markdown\n",
    "radius = 2\n",
    "area = math.pi * radius**2\n",
    "area\n",
    "#this gives the area of a circle with radius given - hard coded to be 2 above)"
   ]
  },
  {
   "cell_type": "code",
   "execution_count": 16,
   "metadata": {},
   "outputs": [
    {
     "name": "stdout",
     "output_type": "stream",
     "text": [
      "enter a radious 3\n"
     ]
    },
    {
     "data": {
      "text/plain": [
       "28.274333882308138"
      ]
     },
     "execution_count": 16,
     "metadata": {},
     "output_type": "execute_result"
    }
   ],
   "source": [
    "rradius = float(input(\"enter a radious \")) #same thing as above, but you input your radious\n",
    "area = math.pi * rradius**2\n",
    "area"
   ]
  },
  {
   "cell_type": "code",
   "execution_count": 17,
   "metadata": {},
   "outputs": [
    {
     "data": {
      "text/plain": [
       "2.0"
      ]
     },
     "execution_count": 17,
     "metadata": {},
     "output_type": "execute_result"
    }
   ],
   "source": [
    "#Composition of functions\n",
    "#remember f(g(x))?  \n",
    "#Python can compose functions too.\n",
    "math.log(math.exp(radius)) #using raduis variable from 2 boxes above (## this is not code markdown) box"
   ]
  },
  {
   "cell_type": "code",
   "execution_count": 18,
   "metadata": {},
   "outputs": [],
   "source": [
    "#The right hand side of a = can be any expression or function call.  The left side should be a variable name.\n",
    "# you can't do:\n",
    "#my_function(x) = 2x**2"
   ]
  },
  {
   "cell_type": "markdown",
   "metadata": {},
   "source": [
    "# Making new functions"
   ]
  },
  {
   "cell_type": "code",
   "execution_count": 19,
   "metadata": {},
   "outputs": [
    {
     "data": {
      "text/plain": [
       "49"
      ]
     },
     "execution_count": 19,
     "metadata": {},
     "output_type": "execute_result"
    }
   ],
   "source": [
    "#mini exercize\n",
    "#define a function for f(x) = x squared and g(x) = x-3  and then compose them with some number and see if the math\n",
    "#works out - when you get an answer, use the return comand eg\n",
    "def f(x):\n",
    "    answer = x**2\n",
    "    return(answer)\n",
    "    #you could just say return(x**2) instead of defining answer\n",
    "def g(x):\n",
    "    answer = x-3\n",
    "    return(answer)\n",
    "    #you could just say return(x-3) instead of defining answer\n",
    "\n",
    "f(g(10))"
   ]
  },
  {
   "cell_type": "code",
   "execution_count": 20,
   "metadata": {},
   "outputs": [
    {
     "name": "stdout",
     "output_type": "stream",
     "text": [
      "-3\n",
      "16\n",
      "Hello!\n",
      "Welcome!\n"
     ]
    }
   ],
   "source": [
    "#You can define your own functions for helpful tasks\n",
    "def greeter(): #greeter is name of function\n",
    "    print(\"Hello!\")\n",
    "    print(\"Welcome!\")\n",
    "#The first line is a header, the rest (everything indented under the header) \n",
    "#    (indented) is the body.  The empty parentheses above show that this function doesn't take any arguments.\n",
    "\n",
    "def squarer(base_number):\n",
    "    return base_number * base_number\n",
    "#this function on the other hand does need an argument.\n",
    "\n",
    "#so far, all we have done is DEFINE the functions; we haven't called them yet.\n",
    "\n",
    "def negator(number_in):\n",
    "    return -number_in\n",
    "\n",
    "print(negator(3))\n",
    "print(squarer(4))\n",
    "greeter() #does not have a positional arguments, don't give it one"
   ]
  },
  {
   "cell_type": "code",
   "execution_count": 21,
   "metadata": {},
   "outputs": [
    {
     "name": "stdout",
     "output_type": "stream",
     "text": [
      "4\n",
      "Input a number. 3\n"
     ]
    },
    {
     "data": {
      "text/plain": [
       "-2160"
      ]
     },
     "execution_count": 21,
     "metadata": {},
     "output_type": "execute_result"
    }
   ],
   "source": [
    "#practice 1 - make and test a function that takes 2 numerical arguments and returns the difference \n",
    "def diff(x,y):\n",
    "    difference = x - y\n",
    "    return difference\n",
    "print(diff(7,3))\n",
    "\n",
    "#practice 2 make and test a function that asks user(keyboard) input to input a number and \n",
    "#returns the cube of that number\n",
    "def keyboard_cuber():\n",
    "    user_input = input(\"Input a number. \")\n",
    "    user_input = float(user_input)\n",
    "    user_input = user_input ** 3\n",
    "    return user_input\n",
    "    #return (float(input(\"Input a number. \")))**3\n",
    "\n",
    "keyboard_cuber()\n",
    "\n",
    "#practice 3 make and test a function that does something interesting to you\n",
    "def interesting(x,y,z):\n",
    "    return x**2 + y**3 - z**4\n",
    "\n",
    "interesting(5,6,7)"
   ]
  },
  {
   "cell_type": "code",
   "execution_count": 22,
   "metadata": {},
   "outputs": [
    {
     "data": {
      "text/plain": [
       "function"
      ]
     },
     "execution_count": 22,
     "metadata": {},
     "output_type": "execute_result"
    }
   ],
   "source": [
    "#This creates a \"function object\" which has type function\n",
    "type(greeter)"
   ]
  },
  {
   "cell_type": "code",
   "execution_count": 23,
   "metadata": {},
   "outputs": [
    {
     "name": "stdout",
     "output_type": "stream",
     "text": [
      "Hello!\n",
      "Welcome!\n"
     ]
    },
    {
     "data": {
      "text/plain": [
       "9"
      ]
     },
     "execution_count": 23,
     "metadata": {},
     "output_type": "execute_result"
    }
   ],
   "source": [
    "#Now we call them (doesn't have to be in a different cell, just separated for clarity)\n",
    "greeter()\n",
    "squarer(3)"
   ]
  },
  {
   "cell_type": "code",
   "execution_count": 24,
   "metadata": {},
   "outputs": [
    {
     "name": "stdout",
     "output_type": "stream",
     "text": [
      "Hello!\n",
      "Welcome!\n",
      "Hello!\n",
      "Welcome!\n",
      "Hello!\n",
      "Welcome!\n"
     ]
    }
   ],
   "source": [
    "#You can call already-defined functions inside other new functions:\n",
    "def enthusiastic_greeter():\n",
    "    greeter()\n",
    "    greeter()\n",
    "    greeter()\n",
    "\n",
    "enthusiastic_greeter()\n",
    "#You can only call a function -after- you've defined it, top to bottom, (with potential twists and turns) in the flow of execution.\n",
    "# calling a function is like a detour in the top-to-bottom flow of statements."
   ]
  },
  {
   "cell_type": "code",
   "execution_count": 25,
   "metadata": {},
   "outputs": [
    {
     "name": "stdout",
     "output_type": "stream",
     "text": [
      "hello welcome \n",
      "hello welcome \n",
      "hello welcome \n",
      "hello welcome \n",
      "hello welcome \n",
      "hello welcome \n",
      "hello welcome \n",
      "hello welcome \n",
      "hello welcome \n",
      "hello welcome \n",
      "hello welcome \n",
      "hello welcome \n",
      "hello welcome \n",
      "hello welcome \n",
      "hello welcome \n",
      "hello welcome \n",
      "hello welcome \n",
      "hello welcome \n",
      "hello welcome \n",
      "hello welcome \n",
      "hello welcome \n",
      "hello welcome \n",
      "hello welcome \n",
      "hello welcome \n",
      "hello welcome \n",
      "hello welcome \n",
      "hello welcome \n",
      "\n"
     ]
    }
   ],
   "source": [
    "#write a function that writes hello and welcome! to the screen 27 times\n",
    "x = \"hello welcome \\n\"\n",
    "print(27*x)"
   ]
  },
  {
   "cell_type": "code",
   "execution_count": 26,
   "metadata": {},
   "outputs": [
    {
     "name": "stdout",
     "output_type": "stream",
     "text": [
      "<class 'tuple'>\n"
     ]
    }
   ],
   "source": [
    "#Aside: a new data type: Tuple, list or array\n",
    "my_tuple = (1,2,3,4,5,6,7,8) #can't be changed over time, like a key\n",
    "my_list = [1,2,3,\"s\"] #can be changed over time\n",
    "print(type(my_tuple))"
   ]
  },
  {
   "cell_type": "code",
   "execution_count": 27,
   "metadata": {},
   "outputs": [
    {
     "name": "stdout",
     "output_type": "stream",
     "text": [
      "Hello!\n",
      "Welcome!\n",
      "Hello!\n",
      "Welcome!\n",
      "Hello!\n",
      "Welcome!\n",
      "Hello!\n",
      "Welcome!\n",
      "Hello!\n",
      "Welcome!\n",
      "Hello!\n",
      "Welcome!\n",
      "Hello!\n",
      "Welcome!\n",
      "Hello!\n",
      "Welcome!\n",
      "Hello!\n",
      "Welcome!\n",
      "Hello!\n",
      "Welcome!\n",
      "Hello!\n",
      "Welcome!\n",
      "Hello!\n",
      "Welcome!\n",
      "Hello!\n",
      "Welcome!\n",
      "Hello!\n",
      "Welcome!\n",
      "Hello!\n",
      "Welcome!\n",
      "Hello!\n",
      "Welcome!\n",
      "Hello!\n",
      "Welcome!\n",
      "Hello!\n",
      "Welcome!\n",
      "Hello!\n",
      "Welcome!\n",
      "Hello!\n",
      "Welcome!\n",
      "Hello!\n",
      "Welcome!\n",
      "Hello!\n",
      "Welcome!\n",
      "Hello!\n",
      "Welcome!\n",
      "Hello!\n",
      "Welcome!\n",
      "Hello!\n",
      "Welcome!\n",
      "Hello!\n",
      "Welcome!\n",
      "Hello!\n",
      "Welcome!\n",
      "Hello!\n",
      "Welcome!\n",
      "Hello!\n",
      "Welcome!\n",
      "Hello!\n",
      "Welcome!\n",
      "Hello!\n",
      "Welcome!\n",
      "Hello!\n",
      "Welcome!\n",
      "Hello!\n",
      "Welcome!\n",
      "Hello!\n",
      "Welcome!\n",
      "Hello!\n",
      "Welcome!\n",
      "Hello!\n",
      "Welcome!\n"
     ]
    }
   ],
   "source": [
    "def extremely_enthusiastic_greeter():\n",
    "    enthusiastic_greeter()\n",
    "    enthusiastic_greeter()\n",
    "    enthusiastic_greeter()\n",
    "    enthusiastic_greeter()\n",
    "    enthusiastic_greeter()\n",
    "    enthusiastic_greeter()\n",
    "    enthusiastic_greeter()\n",
    "    enthusiastic_greeter()\n",
    "    enthusiastic_greeter()\n",
    "    enthusiastic_greeter()\n",
    "    enthusiastic_greeter()\n",
    "    enthusiastic_greeter()\n",
    "\n",
    "extremely_enthusiastic_greeter()"
   ]
  },
  {
   "cell_type": "code",
   "execution_count": 28,
   "metadata": {},
   "outputs": [
    {
     "name": "stdout",
     "output_type": "stream",
     "text": [
      "Hello!\n",
      "Welcome!\n",
      "Hello!\n",
      "Welcome!\n",
      "Hello!\n",
      "Welcome!\n",
      "Hello!\n",
      "Welcome!\n",
      "Hello!\n",
      "Welcome!\n",
      "Hello!\n",
      "Welcome!\n",
      "Hello!\n",
      "Welcome!\n",
      "Hello!\n",
      "Welcome!\n",
      "Hello!\n",
      "Welcome!\n",
      "Hello!\n",
      "Welcome!\n",
      "Hello!\n",
      "Welcome!\n",
      "Hello!\n",
      "Welcome!\n",
      "Hello!\n",
      "Welcome!\n",
      "Hello!\n",
      "Welcome!\n",
      "Hello!\n",
      "Welcome!\n",
      "Hello!\n",
      "Welcome!\n",
      "Hello!\n",
      "Welcome!\n",
      "Hello!\n",
      "Welcome!\n",
      "Hello!\n",
      "Welcome!\n",
      "Hello!\n",
      "Welcome!\n",
      "Hello!\n",
      "Welcome!\n",
      "Hello!\n",
      "Welcome!\n",
      "Hello!\n",
      "Welcome!\n",
      "Hello!\n",
      "Welcome!\n",
      "Hello!\n",
      "Welcome!\n",
      "Hello!\n",
      "Welcome!\n",
      "Hello!\n",
      "Welcome!\n",
      "Hello!\n",
      "Welcome!\n",
      "Hello!\n",
      "Welcome!\n",
      "Hello!\n",
      "Welcome!\n",
      "Hello!\n",
      "Welcome!\n",
      "Hello!\n",
      "Welcome!\n",
      "Hello!\n",
      "Welcome!\n",
      "Hello!\n",
      "Welcome!\n",
      "Hello!\n",
      "Welcome!\n",
      "Hello!\n",
      "Welcome!\n"
     ]
    }
   ],
   "source": [
    "#Lets do some conditional logic with these greeter variables\n",
    "#if the number is 0, run greeter\n",
    "#if the number is negative, run enthusiastic greeter\n",
    "#if the number is positice, run extremely enthusiastic reader\n",
    "def variable_greeter(x):\n",
    "    if x==0:\n",
    "        greeter()\n",
    "    elif x>0:\n",
    "        enthusiastic_greeter()\n",
    "    else:\n",
    "        extremely_enthusiastic_greeter()\n",
    "    \n",
    "variable_greeter(-2)"
   ]
  },
  {
   "cell_type": "markdown",
   "metadata": {},
   "source": [
    "# Parameters and arguments"
   ]
  },
  {
   "cell_type": "code",
   "execution_count": 29,
   "metadata": {},
   "outputs": [
    {
     "name": "stdout",
     "output_type": "stream",
     "text": [
      "my string\n",
      "my string\n",
      "line1 \n",
      "line2\n"
     ]
    }
   ],
   "source": [
    "#when you call a function, you hand it Arguments\n",
    "#but inside the functions, arguments are assigned to variables called parameters.\n",
    "#stu = \"stu\"\n",
    "def print_twice(stuff):\n",
    "    print(stuff)\n",
    "    print(stuff)\n",
    "\n",
    "#The function assigns whatever argument we call it with to the parameter named stuff.\n",
    "print_twice(\"my string\") #in this case, \"my string\" is the argument, assigned to the parameter stuff.\n",
    "#print(stuff) # at this point, the variable stuff doesn't exist anymore\n",
    "my_string_with_new_line = \"line1 \\nline2\"\n",
    "print(my_string_with_new_line)"
   ]
  },
  {
   "cell_type": "code",
   "execution_count": 30,
   "metadata": {},
   "outputs": [
    {
     "name": "stdout",
     "output_type": "stream",
     "text": [
      "Hello Hello Hello Hello \n",
      "Hello Hello Hello Hello \n",
      "neat!\n",
      "neat!\n",
      "that is great\n",
      "that is great\n",
      "that is great\n"
     ]
    }
   ],
   "source": [
    "#try auto-completing function calls with tab\n",
    "print_twice(\"Hello \"*4) # two rows of printing\n",
    "print_twice(\"neat!\") #two rows of printing\n",
    "def print_thrice(stuff): #stuff acts like variable for print thrice (function)\n",
    "    print(stuff)\n",
    "    print(stuff)\n",
    "    print(stuff) #three rows of this\n",
    "print_thrice('that is great') #comand"
   ]
  },
  {
   "cell_type": "code",
   "execution_count": 31,
   "metadata": {},
   "outputs": [
    {
     "name": "stdout",
     "output_type": "stream",
     "text": [
      "first_thingother_thing\n",
      "first_thingother_thing\n"
     ]
    }
   ],
   "source": [
    "#Variables and parameters are LOCAL to a function\n",
    "def print_twice(stuff): #states definition of print_twice\n",
    "    print(stuff)\n",
    "    print(stuff)\n",
    "\n",
    "def concat_twice(part1, part2): #part1 and part2 only exist within concat_twice\n",
    "    cat = part1 + part2\n",
    "    print_twice(cat)\n",
    "concat_twice(\"first_thing\", \"other_thing\")"
   ]
  },
  {
   "cell_type": "code",
   "execution_count": 32,
   "metadata": {},
   "outputs": [],
   "source": [
    "#but if I tried to access the local variable \"cat\" above...\n",
    "### uncomment the prints below to find out!\n",
    "#print(cat)\n",
    "#and \"stuff\" up in print_twice() doesn't exist except in print_twice()\n",
    "#print(stuff)"
   ]
  },
  {
   "cell_type": "code",
   "execution_count": 33,
   "metadata": {},
   "outputs": [],
   "source": [
    "#it can be useful to draw a stack diagram to represent your \"main\" program along with any function calls that \n",
    "#have been made."
   ]
  },
  {
   "cell_type": "code",
   "execution_count": 34,
   "metadata": {},
   "outputs": [
    {
     "data": {
      "text/plain": [
       "1764"
      ]
     },
     "execution_count": 34,
     "metadata": {},
     "output_type": "execute_result"
    }
   ],
   "source": [
    "#Fruitful vs void functions\n",
    "#Fruitful functions return a value.  Void functions don't.\n",
    "#Although concat_twice does PRINT a value, it doesn't RETURN anything, so it's void.\n",
    "#squarer doesn't immediately PRINT anything, but it does RETURN something, so it's fruitful.\n",
    "#but if you don't DO anything with it, it's lost!!!\n",
    "#definition of squarer in Making New Functions\n",
    "squarer(42) #Jupyter only prints it out for convenience."
   ]
  },
  {
   "cell_type": "code",
   "execution_count": 35,
   "metadata": {},
   "outputs": [],
   "source": [
    "#hmm, what was the square of 42 again?  We never saved it!\n",
    "#Try again.\n",
    "square_of_42 = squarer(42)"
   ]
  },
  {
   "cell_type": "code",
   "execution_count": 36,
   "metadata": {},
   "outputs": [
    {
     "name": "stdout",
     "output_type": "stream",
     "text": [
      "1764\n"
     ]
    }
   ],
   "source": [
    "square_of_42 = squarer(42)\n",
    "print(square_of_42)\n",
    "#ah, that's better!"
   ]
  },
  {
   "cell_type": "code",
   "execution_count": 37,
   "metadata": {},
   "outputs": [],
   "source": [
    "#Why?\n",
    "#functions can name and group our ideas conveniently for reading and debugging.\n",
    "#functions can eliminate redundant portions of code.\n",
    "#functions can allow us to debug each part of code one at a time, then assemble them together.\n",
    "#well designed functions can be re-usable in many other programs."
   ]
  },
  {
   "cell_type": "markdown",
   "metadata": {},
   "source": [
    "## Exercise 1  \n",
    "Write a function named right_justify that takes a string named s as a parameter and prints the string with enough leading spaces so that the last letter of the string is in column 70 of the display.  \n",
    "eg: right_justify('monty')  \n",
    "                                                                 monty  \n",
    "Hint: Use string concatenation and repetition. Also, Python provides a built-in function called len that returns the length of a string, so the value of len('monty') is 5."
   ]
  },
  {
   "cell_type": "code",
   "execution_count": 38,
   "metadata": {},
   "outputs": [
    {
     "name": "stdout",
     "output_type": "stream",
     "text": [
      "                                                                 monty\n",
      "                                                      Computer Science\n"
     ]
    }
   ],
   "source": [
    "def right_justify(s):\n",
    "    print(' '*(70-len(s)) + s) #last letter of what s is is at the 70's column bc of -length\n",
    "#s is the variable, so right_justify(23424) would be like plugging in s=23424\n",
    "    \n",
    "right_justify('monty')\n",
    "right_justify('Computer Science')"
   ]
  },
  {
   "cell_type": "markdown",
   "metadata": {},
   "source": [
    "## Exercise 2  \n",
    "A function object is a value you can assign to a variable or pass as an argument. For example, do_twice is a function that takes a function object as an argument and calls it twice:\n",
    "def do_twice(f):  \n",
    "    f()  \n",
    "    f() \n",
    "Here’s an example that uses do_twice to call a function named print_spam twice.  \n",
    "def print_spam():  \n",
    "    print('spam')  \n",
    "  \n",
    "do_twice(print_spam)  \n",
    "Type this example into a script and test it.  \n",
    "Modify do_twice so that it takes two arguments, a function object and a value, and calls the function twice, passing the value as an argument.  \n",
    "Copy the definition of print_twice from earlier in this chapter to your script.  \n",
    "Use the modified version of do_twice to call print_twice twice, passing 'spam' as an argument.  \n",
    "Define a new function called do_four that takes a function object and a value and calls the function four times, passing the value as a parameter. There should be only two statements in the body of this function, not four.  \n",
    "Solution: http://thinkpython2.com/code/do_four.py.  \n"
   ]
  },
  {
   "cell_type": "code",
   "execution_count": 53,
   "metadata": {},
   "outputs": [
    {
     "name": "stdout",
     "output_type": "stream",
     "text": [
      "spam\n",
      "spam\n",
      "spam\n",
      "spam\n"
     ]
    }
   ],
   "source": [
    "def print_twice(spam):#####\n",
    "    print(spam)\n",
    "    print(spam)\n",
    "def do_twice(func, value):\n",
    "    func(value)\n",
    "    func(value)\n",
    "#do_twice(print_twice(\"spam\"))\n",
    "def do_four(func, value): #do_four calls to do_twice 2 times, sets function and value (which is eventually set by print_spam)\n",
    "    do_twice(func, value)\n",
    "    do_twice(func, value)\n",
    "def print_spam(value=\"spam\"):#####\n",
    "    print(\"spam\")\n",
    "    \n",
    "#RESULTS\n",
    "do_four(print_spam,\"spam\") #spam is value, print_spam is function"
   ]
  },
  {
   "cell_type": "markdown",
   "metadata": {},
   "source": [
    "## Exercise 3  "
   ]
  },
  {
   "cell_type": "raw",
   "metadata": {},
   "source": [
    "Exercise 3  \n",
    "Note: This exercise should be done using only the statements and other features we have learned so far.\n",
    "Write a function that draws a grid like the following:\n",
    "+ - - - - + - - - - +\n",
    "|         |         |\n",
    "|         |         |\n",
    "|         |         |\n",
    "|         |         |\n",
    "+ - - - - + - - - - +\n",
    "|         |         |\n",
    "|         |         |\n",
    "|         |         |\n",
    "|         |         |\n",
    "+ - - - - + - - - - +\n",
    "Hint: to print more than one value on a line, you can print a comma-separated sequence of values:\n",
    "print('+', '-')\n",
    "By default, print advances to the next line, but you can override that behavior and put a space at the end, like this:\n",
    "print('+', end=' ')\n",
    "print('-')\n",
    "The output of these statements is '+ -' on the same line. The output from the next print statement would begin on the next line.\n",
    "Write a function that draws a similar grid with four rows and four columns.\n",
    "Solution: http://thinkpython2.com/code/grid.py   Credit: This exercise is based on an exercise in Oualline, Practical C Programming, Third Edition, O’Reilly Media, 1997."
   ]
  },
  {
   "cell_type": "code",
   "execution_count": 61,
   "metadata": {},
   "outputs": [
    {
     "name": "stdout",
     "output_type": "stream",
     "text": [
      "+ - - - - + - - - - +\n",
      "|         |         |\n",
      "|         |         |\n",
      "|         |         |\n",
      "|         |         |\n",
      "+ - - - - + - - - - +\n",
      "|         |         |\n",
      "|         |         |\n",
      "|         |         |\n",
      "|         |         |\n",
      "+ - - - - + - - - - +\n"
     ]
    }
   ],
   "source": [
    "plus=\"+\"\n",
    "space=\" \"\n",
    "space_plus=\" +\"\n",
    "space_minus=\" -\"\n",
    "vert_bar=\"|\"\n",
    "    \n",
    "def pluses_minuses():\n",
    "    print(plus+space_minus*4+space_plus+space_minus*4+space_plus)\n",
    "    \n",
    "def long_minuses():\n",
    "    print(vert_bar+space*9+vert_bar+space*9+vert_bar)\n",
    "\n",
    "pluses_minuses()\n",
    "long_minuses()\n",
    "long_minuses()\n",
    "long_minuses()\n",
    "long_minuses()\n",
    "pluses_minuses()\n",
    "long_minuses()\n",
    "long_minuses()\n",
    "long_minuses()\n",
    "long_minuses()\n",
    "pluses_minuses()"
   ]
  }
 ],
 "metadata": {
  "kernelspec": {
   "display_name": "Python 3 (ipykernel)",
   "language": "python",
   "name": "python3"
  },
  "language_info": {
   "codemirror_mode": {
    "name": "ipython",
    "version": 3
   },
   "file_extension": ".py",
   "mimetype": "text/x-python",
   "name": "python",
   "nbconvert_exporter": "python",
   "pygments_lexer": "ipython3",
   "version": "3.9.7"
  }
 },
 "nbformat": 4,
 "nbformat_minor": 4
}
